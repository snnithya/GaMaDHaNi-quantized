{
 "cells": [
  {
   "cell_type": "markdown",
   "metadata": {},
   "source": [
    "## dot plots"
   ]
  },
  {
   "cell_type": "code",
   "execution_count": 11,
   "metadata": {},
   "outputs": [],
   "source": [
    "import os\n",
    "import pandas as pd\n",
    "import matplotlib.pyplot as plt\n",
    "from pathlib import Path"
   ]
  },
  {
   "cell_type": "code",
   "execution_count": 12,
   "metadata": {},
   "outputs": [],
   "source": [
    "def collect_results(base_dir):\n",
    "    \"\"\"\n",
    "    Collect MCD, LSD, and FAD metrics from evaluation CSV files.\n",
    "    \"\"\"\n",
    "    base_dir = Path(base_dir)\n",
    "    metrics = [\"MCD\", \"LSD\", \"FAD\"]\n",
    "\n",
    "    results = {metric: {file_type: [] for file_type in [\"base_model\", \"per_chan_4_bit\", \"per_chan_8_bit\", \n",
    "                                                        \"per_group_4_bit\", \"per_group_8_bit\", \n",
    "                                                        \"per_tensor_4_bit\", \"per_tensor_8_bit\"]}\n",
    "               for metric in metrics}\n",
    "\n",
    "    # iterate over each channel folder\n",
    "    for channel_folder in sorted(base_dir.iterdir(), key=lambda x: int(x.name) if x.name.isdigit() else float('inf')):\n",
    "        if not channel_folder.is_dir():\n",
    "            continue\n",
    "\n",
    "        # load the CSV file for the current sample\n",
    "        csv_file = channel_folder / \"evaluation_results.csv\"\n",
    "        if not csv_file.exists():\n",
    "            print(f\"No CSV file found in {channel_folder}\")\n",
    "            continue\n",
    "\n",
    "        try:\n",
    "            df = pd.read_csv(csv_file)\n",
    "            \n",
    "            # extract metric values for each file type\n",
    "            for _, row in df.iterrows():\n",
    "                file_name = row[\"file\"]\n",
    "                file_type = file_name.split(\"_channel\")[0]  # Get the prefix before \"_channel\"\n",
    "                \n",
    "                for metric in metrics:\n",
    "                    results[metric][file_type].append(row[metric])\n",
    "        except Exception as e:\n",
    "            print(f\"Failed to process {csv_file}: {e}\")\n",
    "            continue\n",
    "\n",
    "    return results"
   ]
  },
  {
   "cell_type": "code",
   "execution_count": 95,
   "metadata": {},
   "outputs": [],
   "source": [
    "def plot_metrics(results, base_dir):\n",
    "    \"\"\"\n",
    "    Plot MCD, LSD, and FAD dotplots across channels.\n",
    "    \"\"\"\n",
    "    metrics = list(results.keys())\n",
    "    # file_type_colors = {\n",
    "    #     \"base_model\": \"silver\",\n",
    "    #     \"per_chan_4_bit\": \"tomato\",\n",
    "    #     \"per_chan_8_bit\": \"gold\",\n",
    "    #     \"per_group_4_bit\": \"yellowgreen\",\n",
    "    #     \"per_group_8_bit\": \"skyblue\",\n",
    "    #     \"per_tensor_4_bit\": \"thistle\",\n",
    "    #     \"per_tensor_8_bit\": \"pink\",\n",
    "    # }\n",
    "    file_type_colors = {\n",
    "        \"base_model\": \"black\",\n",
    "        \"per_chan_4_bit\": \"red\",\n",
    "        \"per_chan_8_bit\": \"orange\",\n",
    "        \"per_group_4_bit\": \"green\",\n",
    "        \"per_group_8_bit\": \"blue\",\n",
    "        \"per_tensor_4_bit\": \"purple\",\n",
    "        \"per_tensor_8_bit\": \"pink\",\n",
    "    }\n",
    "\n",
    "    for metric in metrics:\n",
    "        plt.figure(figsize=(14, 6))\n",
    "        plt.title(f\"{metric} Across Samples\", fontsize=24)\n",
    "        plt.xlabel(\"Sample\", fontsize=21)\n",
    "        plt.ylabel(metric, fontsize=21)\n",
    "        plt.xticks(fontsize=18)\n",
    "        plt.yticks(fontsize=18)\n",
    "        plt.xticks(range(1, 17), labels=[str(i) for i in range(1, 17)])\n",
    "\n",
    "        for file_type, color in file_type_colors.items():\n",
    "            for channel_idx, channel_data in enumerate(results[metric][file_type], start=1):\n",
    "                # Ensure channel_data is a list\n",
    "                if not isinstance(channel_data, list):\n",
    "                    channel_data = [channel_data]\n",
    "\n",
    "                plt.scatter([channel_idx] * len(channel_data), channel_data, label=file_type if channel_idx == 1 else None,\n",
    "                            color=color, alpha=0.7, s=150)\n",
    "\n",
    "        # add legend outside the plot to the right\n",
    "        plt.legend(loc=\"upper left\", bbox_to_anchor=(1, 1), fontsize=18)\n",
    "        plt.grid(True, linestyle=\"--\", alpha=0.6)\n",
    "        plt.tight_layout()\n",
    "\n",
    "        # save plot as a SVG file\n",
    "        output_path = Path(base_dir) / f\"{metric}_dotplot.svg\"\n",
    "        plt.savefig(output_path)\n",
    "        plt.close()\n",
    "        print(f\"Saved {metric} dotplot to {output_path}\")"
   ]
  },
  {
   "cell_type": "code",
   "execution_count": 96,
   "metadata": {},
   "outputs": [
    {
     "name": "stdout",
     "output_type": "stream",
     "text": [
      "Saved MCD dotplot to examples/wavs/MCD_dotplot.svg\n",
      "Saved LSD dotplot to examples/wavs/LSD_dotplot.svg\n",
      "Saved FAD dotplot to examples/wavs/FAD_dotplot.svg\n"
     ]
    }
   ],
   "source": [
    "base_directory = \"./examples/wavs\"\n",
    "results = collect_results(base_directory)\n",
    "plot_metrics(results, base_directory)"
   ]
  },
  {
   "cell_type": "markdown",
   "metadata": {},
   "source": [
    "## box plots"
   ]
  },
  {
   "cell_type": "code",
   "execution_count": 61,
   "metadata": {},
   "outputs": [],
   "source": [
    "def collect_metrics_for_boxplots(base_dir):\n",
    "    \"\"\"\n",
    "    Collect MCD, LSD, and FAD metrics grouped by quantization methods.\n",
    "    \"\"\"\n",
    "    base_dir = Path(base_dir)\n",
    "    metrics = [\"MCD\", \"LSD\", \"FAD\"]\n",
    "    metric_data = {metric: {} for metric in metrics}\n",
    "\n",
    "    for channel_folder in sorted(base_dir.iterdir(), key=lambda x: int(x.name) if x.name.isdigit() else float('inf')):\n",
    "        if not channel_folder.is_dir():\n",
    "            continue\n",
    "\n",
    "        csv_file = channel_folder / \"evaluation_results.csv\"\n",
    "        if not csv_file.exists():\n",
    "            print(f\"No evaluation_results.csv found in {channel_folder}\")\n",
    "            continue\n",
    "\n",
    "        try:\n",
    "            df = pd.read_csv(csv_file)\n",
    "\n",
    "            for metric in metrics:\n",
    "                if metric not in df.columns:\n",
    "                    print(f\"{metric} not found in {csv_file}\")\n",
    "                    continue\n",
    "\n",
    "                for _, row in df.iterrows():\n",
    "                    file_type = row[\"file\"].split(\"_channel\")[0]\n",
    "                    if file_type not in metric_data[metric]:\n",
    "                        metric_data[metric][file_type] = []\n",
    "                    metric_data[metric][file_type].append(row[metric])\n",
    "\n",
    "        except Exception as e:\n",
    "            print(f\"Failed to process {csv_file}: {e}\")\n",
    "            continue\n",
    "\n",
    "    return metric_data"
   ]
  },
  {
   "cell_type": "code",
   "execution_count": 105,
   "metadata": {},
   "outputs": [],
   "source": [
    "import matplotlib.pyplot as plt\n",
    "from matplotlib.colors import to_rgba\n",
    "from pathlib import Path\n",
    "\n",
    "def plot_boxplots(metric_data, output_dir):\n",
    "    \"\"\"\n",
    "    Create box plots for MCD, LSD, and FAD metrics grouped by quantization methods.\n",
    "    \"\"\"\n",
    "    output_dir = Path(output_dir)\n",
    "    metrics = [\"MCD\", \"LSD\", \"FAD\"]\n",
    "\n",
    "    # Define custom outline and fill colors\n",
    "    outline_colors = [\"black\", \"red\", \"orange\", \"green\", \"blue\", \"purple\", \"pink\"]\n",
    "    fill_colors = [(*to_rgba(color)[:3], 0.3) for color in outline_colors]  # Lighter fill with 30% opacity\n",
    "\n",
    "    for metric in metrics:\n",
    "        plt.figure(figsize=(12, 6))\n",
    "        plt.title(f\"{metric} Across Quantization Levels\", fontsize=24)\n",
    "        plt.xticks(fontsize=18)\n",
    "        plt.yticks(fontsize=18)\n",
    "        plt.xlabel(\"Quantization Level\", fontsize=21)\n",
    "\n",
    "        # Prepare data for boxplot\n",
    "        data = [metric_data[metric][file_type] for file_type in sorted(metric_data[metric].keys())]\n",
    "        labels = sorted(metric_data[metric].keys())\n",
    "\n",
    "        # Create the boxplot with custom styles\n",
    "        boxplot = plt.boxplot(\n",
    "            data,\n",
    "            labels=labels,\n",
    "            patch_artist=True,\n",
    "            whiskerprops=dict(linewidth=2, linestyle=\"--\"),\n",
    "            capprops=dict(linewidth=2),  # Bold caps\n",
    "            medianprops=dict(linewidth=2, color=\"darkred\"),\n",
    "            flierprops=dict(marker=\"o\", markersize=6, linestyle=\"none\", markeredgecolor=\"black\", markerfacecolor=\"grey\")\n",
    "        )\n",
    "\n",
    "        # Apply custom colors for each box\n",
    "        for patch, outline_color, fill_color in zip(boxplot[\"boxes\"], outline_colors, fill_colors):\n",
    "            patch.set_edgecolor(outline_color)  # Set the outline color\n",
    "            patch.set_linewidth(2)             # Bold the outline\n",
    "            patch.set_facecolor(fill_color)    # Set the lighter fill color\n",
    "\n",
    "        plt.xticks(rotation=45, fontsize=18)\n",
    "        plt.grid(axis=\"y\", linestyle=\"--\", alpha=0.7)\n",
    "        plt.tight_layout()\n",
    "\n",
    "        output_path = output_dir / f\"{metric}_boxplot.svg\"\n",
    "        plt.savefig(output_path)\n",
    "        plt.close()\n",
    "        print(f\"Saved {metric} box plot to {output_path}\")"
   ]
  },
  {
   "cell_type": "code",
   "execution_count": 106,
   "metadata": {},
   "outputs": [
    {
     "name": "stdout",
     "output_type": "stream",
     "text": [
      "Saved MCD box plot to examples/wavs/MCD_boxplot.svg\n",
      "Saved LSD box plot to examples/wavs/LSD_boxplot.svg\n",
      "Saved FAD box plot to examples/wavs/FAD_boxplot.svg\n"
     ]
    },
    {
     "name": "stderr",
     "output_type": "stream",
     "text": [
      "/var/folders/0t/zgfgv59j4vb3x7bljlfvz1k00000gn/T/ipykernel_28035/3474726322.py:28: MatplotlibDeprecationWarning: The 'labels' parameter of boxplot() has been renamed 'tick_labels' since Matplotlib 3.9; support for the old name will be dropped in 3.11.\n",
      "  boxplot = plt.boxplot(\n",
      "/var/folders/0t/zgfgv59j4vb3x7bljlfvz1k00000gn/T/ipykernel_28035/3474726322.py:28: MatplotlibDeprecationWarning: The 'labels' parameter of boxplot() has been renamed 'tick_labels' since Matplotlib 3.9; support for the old name will be dropped in 3.11.\n",
      "  boxplot = plt.boxplot(\n",
      "/var/folders/0t/zgfgv59j4vb3x7bljlfvz1k00000gn/T/ipykernel_28035/3474726322.py:28: MatplotlibDeprecationWarning: The 'labels' parameter of boxplot() has been renamed 'tick_labels' since Matplotlib 3.9; support for the old name will be dropped in 3.11.\n",
      "  boxplot = plt.boxplot(\n"
     ]
    }
   ],
   "source": [
    "base_directory = \"./examples/wavs\"\n",
    "metrics_data = collect_metrics_for_boxplots(base_directory)\n",
    "plot_boxplots(metrics_data, base_directory)"
   ]
  },
  {
   "cell_type": "markdown",
   "metadata": {},
   "source": [
    "## table"
   ]
  },
  {
   "cell_type": "code",
   "execution_count": 45,
   "metadata": {},
   "outputs": [],
   "source": [
    "def save_combined_metrics_to_csv(base_dir):\n",
    "    \"\"\"\n",
    "    Combine MCD, LSD, and FAD metrics from all evaluation_results.csv files into three large CSV files,\n",
    "    with channels as rows and file types as columns.\n",
    "\n",
    "    Parameters:\n",
    "    - base_dir (str): Base directory containing numbered subfolders with evaluation_results.csv files.\n",
    "    \"\"\"\n",
    "    base_dir = Path(base_dir)\n",
    "    metrics = [\"MCD\", \"LSD\", \"FAD\"]\n",
    "    \n",
    "    # Initialize dictionaries to store combined results for each metric\n",
    "    combined_results = {metric: {} for metric in metrics}\n",
    "\n",
    "    # Iterate over each numbered folder\n",
    "    for channel_folder in sorted(base_dir.iterdir(), key=lambda x: int(x.name) if x.name.isdigit() else float('inf')):\n",
    "        if not channel_folder.is_dir():\n",
    "            continue\n",
    "\n",
    "        # Load the evaluation_results.csv file\n",
    "        csv_file = channel_folder / \"evaluation_results.csv\"\n",
    "        if not csv_file.exists():\n",
    "            print(f\"No evaluation_results.csv found in {channel_folder}\")\n",
    "            continue\n",
    "\n",
    "        try:\n",
    "            df = pd.read_csv(csv_file)\n",
    "            \n",
    "            # Add metrics to combined_results\n",
    "            for metric in metrics:\n",
    "                if metric not in df.columns:\n",
    "                    print(f\"{metric} not found in {csv_file}\")\n",
    "                    continue\n",
    "                \n",
    "                # Store results for each file type in this channel\n",
    "                channel_name = f\"sample {channel_folder.name}\"\n",
    "                if channel_name not in combined_results[metric]:\n",
    "                    combined_results[metric][channel_name] = {}\n",
    "                \n",
    "                for _, row in df.iterrows():\n",
    "                    file_type = row[\"file\"].split(\"_channel\")[0]\n",
    "                    combined_results[metric][channel_name][file_type] = row[metric]\n",
    "\n",
    "        except Exception as e:\n",
    "            print(f\"Failed to process {csv_file}: {e}\")\n",
    "            continue\n",
    "\n",
    "    # Save each metric to a separate CSV file\n",
    "    for metric in metrics:\n",
    "        metric_data = {}\n",
    "\n",
    "        # Collect all file types across channels\n",
    "        file_types = set()\n",
    "        for channel_data in combined_results[metric].values():\n",
    "            file_types.update(channel_data.keys())\n",
    "        file_types = sorted(file_types)  # Ensure consistent ordering\n",
    "\n",
    "        # Create columns for each file type and rows for each channel\n",
    "        for channel_name in sorted(combined_results[metric].keys(), key=lambda x: int(x.split()[-1])):\n",
    "            row = {file_type: combined_results[metric][channel_name].get(file_type, None) for file_type in file_types}\n",
    "            metric_data[channel_name] = row\n",
    "\n",
    "        # Convert to DataFrame and transpose\n",
    "        df_metric = pd.DataFrame(metric_data).T\n",
    "        df_metric.index.name = \"\"\n",
    "        df_metric.reset_index(inplace=True)\n",
    "\n",
    "        # Save to CSV\n",
    "        output_csv = base_dir / f\"{metric}_results.csv\"\n",
    "        df_metric.to_csv(output_csv, index=False)\n",
    "        print(f\"Saved {metric} results to {output_csv}\")"
   ]
  },
  {
   "cell_type": "code",
   "execution_count": 46,
   "metadata": {},
   "outputs": [
    {
     "name": "stdout",
     "output_type": "stream",
     "text": [
      "Saved MCD results to examples/wavs/MCD_results.csv\n",
      "Saved LSD results to examples/wavs/LSD_results.csv\n",
      "Saved FAD results to examples/wavs/FAD_results.csv\n"
     ]
    }
   ],
   "source": [
    "save_combined_metrics_to_csv(base_directory)"
   ]
  }
 ],
 "metadata": {
  "kernelspec": {
   "display_name": "Python 3",
   "language": "python",
   "name": "python3"
  },
  "language_info": {
   "codemirror_mode": {
    "name": "ipython",
    "version": 3
   },
   "file_extension": ".py",
   "mimetype": "text/x-python",
   "name": "python",
   "nbconvert_exporter": "python",
   "pygments_lexer": "ipython3",
   "version": "3.11.1"
  }
 },
 "nbformat": 4,
 "nbformat_minor": 2
}
