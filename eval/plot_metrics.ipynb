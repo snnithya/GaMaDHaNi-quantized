{
 "cells": [
  {
   "cell_type": "code",
   "execution_count": 11,
   "metadata": {},
   "outputs": [],
   "source": [
    "import os\n",
    "import pandas as pd\n",
    "import matplotlib.pyplot as plt\n",
    "from pathlib import Path"
   ]
  },
  {
   "cell_type": "code",
   "execution_count": 12,
   "metadata": {},
   "outputs": [],
   "source": [
    "def collect_results(base_dir):\n",
    "    \"\"\"\n",
    "    Collect MCD, LSD, and FAD metrics from evaluation CSV files.\n",
    "    \"\"\"\n",
    "    base_dir = Path(base_dir)\n",
    "    metrics = [\"MCD\", \"LSD\", \"FAD\"]\n",
    "\n",
    "    results = {metric: {file_type: [] for file_type in [\"base_model\", \"per_chan_4_bit\", \"per_chan_8_bit\", \n",
    "                                                        \"per_group_4_bit\", \"per_group_8_bit\", \n",
    "                                                        \"per_tensor_4_bit\", \"per_tensor_8_bit\"]}\n",
    "               for metric in metrics}\n",
    "\n",
    "    # iterate over each channel folder\n",
    "    for channel_folder in sorted(base_dir.iterdir(), key=lambda x: int(x.name) if x.name.isdigit() else float('inf')):\n",
    "        if not channel_folder.is_dir():\n",
    "            continue\n",
    "\n",
    "        # load the CSV file for the current sample\n",
    "        csv_file = channel_folder / \"evaluation_results.csv\"\n",
    "        if not csv_file.exists():\n",
    "            print(f\"No CSV file found in {channel_folder}\")\n",
    "            continue\n",
    "\n",
    "        try:\n",
    "            df = pd.read_csv(csv_file)\n",
    "            \n",
    "            # extract metric values for each file type\n",
    "            for _, row in df.iterrows():\n",
    "                file_name = row[\"file\"]\n",
    "                file_type = file_name.split(\"_channel\")[0]  # Get the prefix before \"_channel\"\n",
    "                \n",
    "                for metric in metrics:\n",
    "                    results[metric][file_type].append(row[metric])\n",
    "        except Exception as e:\n",
    "            print(f\"Failed to process {csv_file}: {e}\")\n",
    "            continue\n",
    "\n",
    "    return results"
   ]
  },
  {
   "cell_type": "code",
   "execution_count": 34,
   "metadata": {},
   "outputs": [],
   "source": [
    "def plot_metrics(results, base_dir):\n",
    "    \"\"\"\n",
    "    Plot MCD, LSD, and FAD dotplots across channels.\n",
    "    \"\"\"\n",
    "    metrics = list(results.keys())\n",
    "    file_type_colors = {\n",
    "        \"base_model\": \"black\",\n",
    "        \"per_chan_4_bit\": \"red\",\n",
    "        \"per_chan_8_bit\": \"orange\",\n",
    "        \"per_group_4_bit\": \"green\",\n",
    "        \"per_group_8_bit\": \"blue\",\n",
    "        \"per_tensor_4_bit\": \"purple\",\n",
    "        \"per_tensor_8_bit\": \"pink\",\n",
    "    }\n",
    "\n",
    "    for metric in metrics:\n",
    "        plt.figure(figsize=(14, 6))\n",
    "        plt.title(f\"{metric} Across Samples\", fontsize=16)\n",
    "        plt.xlabel(\"Sample\", fontsize=14)\n",
    "        plt.ylabel(metric, fontsize=14)\n",
    "        plt.xticks(range(1, 17), labels=[str(i) for i in range(1, 17)])\n",
    "\n",
    "        for file_type, color in file_type_colors.items():\n",
    "            for channel_idx, channel_data in enumerate(results[metric][file_type], start=1):\n",
    "                # Ensure channel_data is a list\n",
    "                if not isinstance(channel_data, list):\n",
    "                    channel_data = [channel_data]\n",
    "\n",
    "                plt.scatter([channel_idx] * len(channel_data), channel_data, label=file_type if channel_idx == 1 else None,\n",
    "                            color=color, alpha=0.7, s=100)\n",
    "\n",
    "        # add legend outside the plot to the right\n",
    "        plt.legend(loc=\"upper left\", bbox_to_anchor=(1, 1), fontsize=12)\n",
    "        plt.grid(True, linestyle=\"--\", alpha=0.6)\n",
    "        plt.tight_layout()\n",
    "\n",
    "        # save plot as a SVG file\n",
    "        output_path = Path(base_dir) / f\"{metric}_dotplot.svg\"\n",
    "        plt.savefig(output_path)\n",
    "        plt.close()\n",
    "        print(f\"Saved {metric} dotplot to {output_path}\")"
   ]
  },
  {
   "cell_type": "code",
   "execution_count": 35,
   "metadata": {},
   "outputs": [
    {
     "name": "stdout",
     "output_type": "stream",
     "text": [
      "Saved MCD dotplot to examples/wavs/MCD_dotplot.svg\n",
      "Saved LSD dotplot to examples/wavs/LSD_dotplot.svg\n",
      "Saved FAD dotplot to examples/wavs/FAD_dotplot.svg\n"
     ]
    }
   ],
   "source": [
    "base_directory = \"./examples/wavs\"\n",
    "results = collect_results(base_directory)\n",
    "plot_metrics(results, base_directory)"
   ]
  }
 ],
 "metadata": {
  "kernelspec": {
   "display_name": "Python 3",
   "language": "python",
   "name": "python3"
  },
  "language_info": {
   "codemirror_mode": {
    "name": "ipython",
    "version": 3
   },
   "file_extension": ".py",
   "mimetype": "text/x-python",
   "name": "python",
   "nbconvert_exporter": "python",
   "pygments_lexer": "ipython3",
   "version": "3.11.1"
  }
 },
 "nbformat": 4,
 "nbformat_minor": 2
}
