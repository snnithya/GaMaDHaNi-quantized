{
 "cells": [
  {
   "cell_type": "markdown",
   "metadata": {},
   "source": [
    "## ground truth"
   ]
  },
  {
   "cell_type": "code",
   "execution_count": 11,
   "metadata": {},
   "outputs": [
    {
     "name": "stdout",
     "output_type": "stream",
     "text": [
      "Loaded tensor from ./examples/ground_truth.pt\n",
      "Tensor shape: torch.Size([16, 191744])\n",
      "Tensor dtype: torch.float32\n",
      "Tensor data (first 10 elements): tensor([-0.0327, -0.0135,  0.0862,  0.1231,  0.1317,  0.1091,  0.0862,  0.0695,\n",
      "         0.0145, -0.0354])\n"
     ]
    }
   ],
   "source": [
    "import torch\n",
    "\n",
    "file_path = \"./examples/ground_truth.pt\"\n",
    "\n",
    "try:\n",
    "    tensor = torch.load(file_path, map_location=torch.device('cpu'), weights_only=False)\n",
    "    print(f\"Loaded tensor from {file_path}\")\n",
    "    print(f\"Tensor shape: {tensor.shape}\")\n",
    "    print(f\"Tensor dtype: {tensor.dtype}\")\n",
    "    print(f\"Tensor data (first 10 elements): {tensor.flatten()[:10]}\")\n",
    "except Exception as e:\n",
    "    print(f\"Failed to load {file_path}: {e}\")"
   ]
  },
  {
   "cell_type": "code",
   "execution_count": 6,
   "metadata": {},
   "outputs": [
    {
     "name": "stderr",
     "output_type": "stream",
     "text": [
      "/var/folders/0t/zgfgv59j4vb3x7bljlfvz1k00000gn/T/ipykernel_9937/3351722322.py:10: FutureWarning: You are using `torch.load` with `weights_only=False` (the current default value), which uses the default pickle module implicitly. It is possible to construct malicious pickle data which will execute arbitrary code during unpickling (See https://github.com/pytorch/pytorch/blob/main/SECURITY.md#untrusted-models for more details). In a future release, the default value for `weights_only` will be flipped to `True`. This limits the functions that could be executed during unpickling. Arbitrary objects will no longer be allowed to be loaded via this mode unless they are explicitly allowlisted by the user via `torch.serialization.add_safe_globals`. We recommend you start setting `weights_only=True` for any use case where you don't have full control of the loaded file. Please open an issue on GitHub for any issues related to this experimental feature.\n",
      "  obj = torch.load(file_path, map_location=torch.device('cpu'))\n"
     ]
    }
   ],
   "source": [
    "import numpy as np\n",
    "import soundfile as sf\n",
    "\n",
    "file_path = \"./examples/ground_truth.pt\"\n",
    "sample_rate = 16000  # Adjust if necessary\n",
    "\n",
    "obj = torch.load(file_path, map_location=torch.device('cpu'), weights_only=False)\n",
    "\n",
    "# extract the audio tensor (modify key as necessary)\n",
    "if isinstance(obj, dict):\n",
    "    # replace 'audio' with the correct key if different\n",
    "    audio_tensor = obj.get('audio') or next(iter(obj.values()))\n",
    "elif isinstance(obj, torch.Tensor):\n",
    "    audio_tensor = obj\n",
    "else:\n",
    "    raise TypeError(\"unsupported data format in the .pt file\")\n",
    "\n",
    "audio_data = audio_tensor.cpu().numpy()"
   ]
  },
  {
   "cell_type": "code",
   "execution_count": 7,
   "metadata": {},
   "outputs": [],
   "source": [
    "if audio_data.shape[0] == 16:\n",
    "    audio_data = audio_data.T"
   ]
  },
  {
   "cell_type": "code",
   "execution_count": 8,
   "metadata": {},
   "outputs": [],
   "source": [
    "# normalize each channel\n",
    "max_vals = np.max(np.abs(audio_data), axis=0)\n",
    "audio_data = audio_data / max_vals[np.newaxis, :]\n",
    "audio_data = np.nan_to_num(audio_data)  # Replace NaNs resulting from division by zero"
   ]
  },
  {
   "cell_type": "code",
   "execution_count": 9,
   "metadata": {},
   "outputs": [
    {
     "name": "stdout",
     "output_type": "stream",
     "text": [
      "Saved channel 1 to ./examples/ground_truth_channel_1.wav\n",
      "Saved channel 2 to ./examples/ground_truth_channel_2.wav\n",
      "Saved channel 3 to ./examples/ground_truth_channel_3.wav\n",
      "Saved channel 4 to ./examples/ground_truth_channel_4.wav\n",
      "Saved channel 5 to ./examples/ground_truth_channel_5.wav\n",
      "Saved channel 6 to ./examples/ground_truth_channel_6.wav\n",
      "Saved channel 7 to ./examples/ground_truth_channel_7.wav\n",
      "Saved channel 8 to ./examples/ground_truth_channel_8.wav\n",
      "Saved channel 9 to ./examples/ground_truth_channel_9.wav\n",
      "Saved channel 10 to ./examples/ground_truth_channel_10.wav\n",
      "Saved channel 11 to ./examples/ground_truth_channel_11.wav\n",
      "Saved channel 12 to ./examples/ground_truth_channel_12.wav\n",
      "Saved channel 13 to ./examples/ground_truth_channel_13.wav\n",
      "Saved channel 14 to ./examples/ground_truth_channel_14.wav\n",
      "Saved channel 15 to ./examples/ground_truth_channel_15.wav\n",
      "Saved channel 16 to ./examples/ground_truth_channel_16.wav\n"
     ]
    }
   ],
   "source": [
    "# save each channel separately\n",
    "for i in range(audio_data.shape[1]):\n",
    "    channel_data = audio_data[:, i]\n",
    "    channel_wav_path = f\"./examples/ground_truth_test/ground_truth_channel_{i+1}.wav\"\n",
    "    sf.write(channel_wav_path, channel_data, sample_rate)\n",
    "    print(f\"Saved channel {i+1} to {channel_wav_path}\")"
   ]
  },
  {
   "cell_type": "code",
   "execution_count": null,
   "metadata": {},
   "outputs": [],
   "source": [
    "import torch\n",
    "\n",
    "file_path = \"./examples/ground_truth.pt\"\n",
    "\n",
    "try:\n",
    "    tensor = torch.load(file_path, map_location=torch.device('cpu'), weights_only=False)\n",
    "    print(f\"Loaded tensor from {file_path}\")\n",
    "    print(f\"Tensor shape: {tensor.shape}\")\n",
    "    print(f\"Tensor dtype: {tensor.dtype}\")\n",
    "    print(f\"Tensor data (first 10 elements): {tensor.flatten()[:10]}\")\n",
    "except Exception as e:\n",
    "    print(f\"Failed to load {file_path}: {e}\")"
   ]
  },
  {
   "cell_type": "markdown",
   "metadata": {},
   "source": [
    "## weight_quantized_per_channel_4_bit_4_steps"
   ]
  },
  {
   "cell_type": "code",
   "execution_count": 14,
   "metadata": {},
   "outputs": [
    {
     "name": "stdout",
     "output_type": "stream",
     "text": [
      "Loaded tensor from ./examples/weight_quantized_per_channel_4_bit_4_steps.pt\n",
      "Tensor shape: torch.Size([16, 191744])\n",
      "Tensor dtype: torch.float32\n",
      "Tensor data (first 10 elements): tensor([-1.9662, -1.0697,  1.1282,  4.1851,  0.7965, -2.9655, -1.1123,  2.1595,\n",
      "         2.4252, -0.8761])\n"
     ]
    }
   ],
   "source": [
    "import torch\n",
    "\n",
    "file_path = \"./examples/weight_quantized_per_channel_4_bit_4_steps.pt\"\n",
    "\n",
    "try:\n",
    "    tensor = torch.load(file_path, map_location=torch.device('cpu'), weights_only=False)\n",
    "    print(f\"Loaded tensor from {file_path}\")\n",
    "    print(f\"Tensor shape: {tensor.shape}\")\n",
    "    print(f\"Tensor dtype: {tensor.dtype}\")\n",
    "    print(f\"Tensor data (first 10 elements): {tensor.flatten()[:10]}\")\n",
    "except Exception as e:\n",
    "    print(f\"Failed to load {file_path}: {e}\")"
   ]
  },
  {
   "cell_type": "code",
   "execution_count": 15,
   "metadata": {},
   "outputs": [],
   "source": [
    "import numpy as np\n",
    "import soundfile as sf\n",
    "\n",
    "sample_rate = 16000  # Adjust if necessary\n",
    "\n",
    "obj = torch.load(file_path, map_location=torch.device('cpu'), weights_only=False)\n",
    "\n",
    "# extract the audio tensor (modify key as necessary)\n",
    "if isinstance(obj, dict):\n",
    "    # replace 'audio' with the correct key if different\n",
    "    audio_tensor = obj.get('audio') or next(iter(obj.values()))\n",
    "elif isinstance(obj, torch.Tensor):\n",
    "    audio_tensor = obj\n",
    "else:\n",
    "    raise TypeError(\"unsupported data format in the .pt file\")\n",
    "\n",
    "audio_data = audio_tensor.cpu().numpy()"
   ]
  },
  {
   "cell_type": "code",
   "execution_count": 16,
   "metadata": {},
   "outputs": [],
   "source": [
    "if audio_data.shape[0] == 16:\n",
    "    audio_data = audio_data.T"
   ]
  },
  {
   "cell_type": "code",
   "execution_count": 17,
   "metadata": {},
   "outputs": [],
   "source": [
    "# normalize each channel\n",
    "max_vals = np.max(np.abs(audio_data), axis=0)\n",
    "audio_data = audio_data / max_vals[np.newaxis, :]\n",
    "audio_data = np.nan_to_num(audio_data)  # Replace NaNs resulting from division by zero"
   ]
  },
  {
   "cell_type": "code",
   "execution_count": 18,
   "metadata": {},
   "outputs": [
    {
     "name": "stdout",
     "output_type": "stream",
     "text": [
      "Saved channel 1 to ./examples/weight_quantized_per_channel_4_test/weight_quantized_per_channel_4_test_1.wav\n",
      "Saved channel 2 to ./examples/weight_quantized_per_channel_4_test/weight_quantized_per_channel_4_test_2.wav\n",
      "Saved channel 3 to ./examples/weight_quantized_per_channel_4_test/weight_quantized_per_channel_4_test_3.wav\n",
      "Saved channel 4 to ./examples/weight_quantized_per_channel_4_test/weight_quantized_per_channel_4_test_4.wav\n",
      "Saved channel 5 to ./examples/weight_quantized_per_channel_4_test/weight_quantized_per_channel_4_test_5.wav\n",
      "Saved channel 6 to ./examples/weight_quantized_per_channel_4_test/weight_quantized_per_channel_4_test_6.wav\n",
      "Saved channel 7 to ./examples/weight_quantized_per_channel_4_test/weight_quantized_per_channel_4_test_7.wav\n",
      "Saved channel 8 to ./examples/weight_quantized_per_channel_4_test/weight_quantized_per_channel_4_test_8.wav\n",
      "Saved channel 9 to ./examples/weight_quantized_per_channel_4_test/weight_quantized_per_channel_4_test_9.wav\n",
      "Saved channel 10 to ./examples/weight_quantized_per_channel_4_test/weight_quantized_per_channel_4_test_10.wav\n",
      "Saved channel 11 to ./examples/weight_quantized_per_channel_4_test/weight_quantized_per_channel_4_test_11.wav\n",
      "Saved channel 12 to ./examples/weight_quantized_per_channel_4_test/weight_quantized_per_channel_4_test_12.wav\n",
      "Saved channel 13 to ./examples/weight_quantized_per_channel_4_test/weight_quantized_per_channel_4_test_13.wav\n",
      "Saved channel 14 to ./examples/weight_quantized_per_channel_4_test/weight_quantized_per_channel_4_test_14.wav\n",
      "Saved channel 15 to ./examples/weight_quantized_per_channel_4_test/weight_quantized_per_channel_4_test_15.wav\n",
      "Saved channel 16 to ./examples/weight_quantized_per_channel_4_test/weight_quantized_per_channel_4_test_16.wav\n"
     ]
    }
   ],
   "source": [
    "# save each channel separately\n",
    "for i in range(audio_data.shape[1]):\n",
    "    channel_data = audio_data[:, i]\n",
    "    channel_wav_path = f\"./examples/weight_quantized_per_channel_4_test/weight_quantized_per_channel_4_test_{i+1}.wav\"\n",
    "    sf.write(channel_wav_path, channel_data, sample_rate)\n",
    "    print(f\"Saved channel {i+1} to {channel_wav_path}\")"
   ]
  }
 ],
 "metadata": {
  "kernelspec": {
   "display_name": "Python 3",
   "language": "python",
   "name": "python3"
  },
  "language_info": {
   "codemirror_mode": {
    "name": "ipython",
    "version": 3
   },
   "file_extension": ".py",
   "mimetype": "text/x-python",
   "name": "python",
   "nbconvert_exporter": "python",
   "pygments_lexer": "ipython3",
   "version": "3.11.1"
  }
 },
 "nbformat": 4,
 "nbformat_minor": 2
}
